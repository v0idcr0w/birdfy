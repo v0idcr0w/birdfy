{
 "cells": [
  {
   "cell_type": "code",
   "execution_count": 24,
   "metadata": {},
   "outputs": [],
   "source": [
    "import cv2\n",
    "import os\n",
    "\n",
    "species_list = [\"AUSTRALIAN MAGPIE\", \"BLACK REDSTART\", \"BLUE JAY\", \"CLIFF SWALLOW\", \"COAL TIT\", \"COMMON SWIFT\", \"EURASIAN BLACKBIRD\", \"EURASIAN BLUE TIT\", \"EURASIAN COLLARED DOVE\", \"EURASIAN TREE SPARROW\", \"EUROPEAN ROBIN\", \"HAIRY WOODPECKER\", \"NOISY MINER\", \"PILEATED WOODPECKER\", \"RED BELLIED WOODPECKER\", \"WHITE WAGTAIL\", \"WOOD PIGEON\"]"
   ]
  },
  {
   "cell_type": "code",
   "execution_count": 25,
   "metadata": {},
   "outputs": [],
   "source": [
    "def resize_images(species): \n",
    "    source_path = f\"{species}\"\n",
    "    target_path = f\"_resized/{species}\"\n",
    "    if not os.path.exists(target_path):\n",
    "        # create directory to store the images\n",
    "        os.mkdir(target_path)\n",
    "    # get all images in the source path\n",
    "    images_path = os.listdir(source_path)\n",
    "    for i in range(len(images_path)):\n",
    "        image = cv2.imread(source_path + \"/\" + images_path[i])\n",
    "        resized_image = cv2.resize(image, (224, 224))\n",
    "        cv2.imwrite(target_path + \"/\" + images_path[i], resized_image)"
   ]
  },
  {
   "cell_type": "code",
   "execution_count": null,
   "metadata": {},
   "outputs": [],
   "source": [
    "for species in species_list:\n",
    "    resize_images(species)"
   ]
  }
 ],
 "metadata": {
  "kernelspec": {
   "display_name": "Python 3",
   "language": "python",
   "name": "python3"
  },
  "language_info": {
   "codemirror_mode": {
    "name": "ipython",
    "version": 3
   },
   "file_extension": ".py",
   "mimetype": "text/x-python",
   "name": "python",
   "nbconvert_exporter": "python",
   "pygments_lexer": "ipython3",
   "version": "3.11.4"
  }
 },
 "nbformat": 4,
 "nbformat_minor": 2
}
