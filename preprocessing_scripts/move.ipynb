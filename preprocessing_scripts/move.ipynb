{
 "cells": [
  {
   "cell_type": "code",
   "execution_count": 20,
   "metadata": {},
   "outputs": [],
   "source": [
    "import os, shutil\n",
    "\n",
    "# list directories \n",
    "species_list = os.listdir(\"valid/\")\n"
   ]
  },
  {
   "cell_type": "code",
   "execution_count": 21,
   "metadata": {},
   "outputs": [],
   "source": [
    "for species in species_list: \n",
    "    images_list = os.listdir(f\"valid/{species}\")\n",
    "    for i in range(len(images_list)):\n",
    "        source = f\"valid/{species}/{images_list[i]}\"\n",
    "        destination = f\"data/{species}/valid{images_list[i]}\" \n",
    "        shutil.move(source, destination)"
   ]
  },
  {
   "cell_type": "code",
   "execution_count": 39,
   "metadata": {},
   "outputs": [],
   "source": [
    "def rename_test_valid(species):\n",
    "    files = os.listdir(f\"data/{species}\")\n",
    "\n",
    "    # number of files\n",
    "    files_int = [int(file[:-4]) for file in files if not (file.startswith(\"test\") or file.startswith(\"valid\"))]\n",
    "\n",
    "    files_to_rename = [file for file in files if file.startswith(\"test\") or file.startswith(\"valid\")] \n",
    "\n",
    "    counter = max(files_int)\n",
    "\n",
    "    if len(files_to_rename) > 0:\n",
    "        # do nothing if there are no files starting with test or valid \n",
    "        for file in files_to_rename:\n",
    "            counter += 1 \n",
    "            new_name = f\"{counter}.jpg\"\n",
    "            src = f\"data/{species}/{file}\"\n",
    "            dest = f\"data/{species}/{new_name}\" \n",
    "            os.rename(src, dest)"
   ]
  },
  {
   "cell_type": "code",
   "execution_count": 40,
   "metadata": {},
   "outputs": [],
   "source": [
    "# rename the files in source\n",
    "species_list = os.listdir(\"data/\")\n",
    "for species in species_list:\n",
    "    rename_test_valid(species)"
   ]
  }
 ],
 "metadata": {
  "kernelspec": {
   "display_name": "Python 3",
   "language": "python",
   "name": "python3"
  },
  "language_info": {
   "codemirror_mode": {
    "name": "ipython",
    "version": 3
   },
   "file_extension": ".py",
   "mimetype": "text/x-python",
   "name": "python",
   "nbconvert_exporter": "python",
   "pygments_lexer": "ipython3",
   "version": "3.11.4"
  }
 },
 "nbformat": 4,
 "nbformat_minor": 2
}
